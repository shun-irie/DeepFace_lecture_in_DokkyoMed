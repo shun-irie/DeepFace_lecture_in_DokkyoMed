{
  "nbformat": 4,
  "nbformat_minor": 0,
  "metadata": {
    "colab": {
      "provenance": [],
      "collapsed_sections": []
    },
    "kernelspec": {
      "name": "python3",
      "display_name": "Python 3"
    },
    "language_info": {
      "name": "python"
    }
  },
  "cells": [
    {
      "cell_type": "markdown",
      "source": [
        "まずは、pip（Pythonのデータベース）からDeepFaceを呼び出します"
      ],
      "metadata": {
        "id": "f_BX0xH_00FB"
      }
    },
    {
      "cell_type": "code",
      "execution_count": null,
      "metadata": {
        "id": "ttXxczmb0xue"
      },
      "outputs": [],
      "source": [
        "pip install deepface"
      ]
    },
    {
      "cell_type": "markdown",
      "source": [
        "次に、contentに、original、testのフォルダを作成し、事前に配布したファイルをそれぞれアップロードしてください"
      ],
      "metadata": {
        "id": "QZoFdBby9MR4"
      }
    },
    {
      "cell_type": "code",
      "source": [
        "from deepface import DeepFace\n",
        "import os\n",
        "df1 = DeepFace.find(img_path = \"./original/Nagasawa_original.jpg\", db_path = \"./test\",model_name = \"Facenet512\")\n",
        "df2 = DeepFace.find(img_path = \"./original/Aragaki_original.jpg\", db_path = \"./test\",model_name = \"Facenet512\")\n",
        "df3 = DeepFace.find(img_path = \"./original/Kuroki_original.jpg\", db_path = \"./test\",model_name = \"Facenet512\")\n",
        "print(df1)\n",
        "print(df2)\n",
        "print(df3)"
      ],
      "metadata": {
        "id": "P9vrZ3560yyD"
      },
      "execution_count": null,
      "outputs": []
    }
  ]
}